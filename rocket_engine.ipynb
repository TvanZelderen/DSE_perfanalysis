{
 "cells": [
  {
   "cell_type": "code",
   "execution_count": 49,
   "metadata": {},
   "outputs": [],
   "source": [
    "from math import exp\n",
    "\n",
    "def required_mass_fraction(delta_v, isp):\n",
    "    \"\"\"Returns m_0/m_f\"\"\"\n",
    "    return exp(delta_v/(isp*9.81))"
   ]
  },
  {
   "cell_type": "code",
   "execution_count": 50,
   "metadata": {},
   "outputs": [],
   "source": [
    "def lox_tank_mass(volume):\n",
    "    return 12.158 * volume\n",
    "\n",
    "def lh2_tank_mass(volume):\n",
    "    return 9.0911 * volume\n",
    "\n",
    "ox_to_fuel = 4.83\n",
    "\n",
    "def propellant_mass(delta_v, isp, payload_mass):\n",
    "    return payload_mass - payload_mass / required_mass_fraction(delta_v, isp)\n",
    "\n",
    "def ox_mass(delta_v, isp, payload_mass):\n",
    "    return propellant_mass(delta_v, isp, payload_mass) / (ox_to_fuel + 1)\n",
    "\n",
    "def fuel_mass(delta_v, isp, payload_mass):\n",
    "    return propellant_mass(delta_v, isp, payload_mass) - ox_mass(delta_v, isp, payload_mass)\n",
    "\n",
    "def tank_mass(delta_v, isp, payload_mass):\n",
    "    ox = ox_mass(delta_v, isp, payload_mass)\n",
    "    fuel = fuel_mass(delta_v, isp, payload_mass)\n",
    "\n",
    "    ox_volume = ox / 1141\n",
    "    fuel_volume = fuel / 71.96\n",
    "\n",
    "    return lox_tank_mass(ox_volume) + lh2_tank_mass(fuel_volume)\n"
   ]
  },
  {
   "cell_type": "code",
   "execution_count": 51,
   "metadata": {},
   "outputs": [
    {
     "name": "stdout",
     "output_type": "stream",
     "text": [
      "2000: 2.630432186134044\n",
      "2100: 2.2337848530776174\n",
      "2200: 1.8550968529711014\n",
      "2300: 1.4935550260800738\n",
      "2400: 1.1483830307833287\n",
      "2500: 0.8188396765283628\n",
      "2600: 0.5042173322670607\n",
      "2700: 0.20384040695394212\n",
      "2800: -0.08293610115581274\n",
      "2900: -0.35672798952372275\n"
     ]
    }
   ],
   "source": [
    "max_mass = 20\n",
    "isp = 220\n",
    "\n",
    "engine_mass = 4\n",
    "\n",
    "delta_vs = [2000 + i*100 for i in range(10)]\n",
    "\n",
    "for delta_v in delta_vs:\n",
    "    payload_mass = max_mass - engine_mass - tank_mass(delta_v, isp, max_mass) - propellant_mass(delta_v, isp, max_mass)\n",
    "    print(f\"{delta_v}: {payload_mass}\")"
   ]
  }
 ],
 "metadata": {
  "kernelspec": {
   "display_name": ".venv",
   "language": "python",
   "name": "python3"
  },
  "language_info": {
   "codemirror_mode": {
    "name": "ipython",
    "version": 3
   },
   "file_extension": ".py",
   "mimetype": "text/x-python",
   "name": "python",
   "nbconvert_exporter": "python",
   "pygments_lexer": "ipython3",
   "version": "3.12.6"
  }
 },
 "nbformat": 4,
 "nbformat_minor": 2
}
