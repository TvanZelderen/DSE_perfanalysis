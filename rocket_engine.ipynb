{
 "cells": [
  {
   "cell_type": "code",
   "execution_count": 2,
   "metadata": {},
   "outputs": [],
   "source": [
    "from math import exp\n",
    "\n",
    "def required_mass_fraction(delta_v, isp):\n",
    "    \"\"\"Returns m_0/m_f\"\"\"\n",
    "    return exp(delta_v/(isp*9.81))"
   ]
  },
  {
   "cell_type": "code",
   "execution_count": 3,
   "metadata": {},
   "outputs": [],
   "source": [
    "def lox_tank_mass(volume):\n",
    "    return 12.158 * volume\n",
    "\n",
    "def lh2_tank_mass(volume):\n",
    "    return 9.0911 * volume\n",
    "\n",
    "ox_to_fuel = 4.83\n",
    "\n",
    "def propellant_mass(delta_v, isp, payload_mass):\n",
    "    return payload_mass - payload_mass / required_mass_fraction(delta_v, isp)\n",
    "\n",
    "def ox_mass(delta_v, isp, payload_mass):\n",
    "    return propellant_mass(delta_v, isp, payload_mass) / (ox_to_fuel + 1)\n",
    "\n",
    "def fuel_mass(delta_v, isp, payload_mass):\n",
    "    return propellant_mass(delta_v, isp, payload_mass) - ox_mass(delta_v, isp, payload_mass)\n",
    "\n",
    "def tank_mass(delta_v, isp, payload_mass):\n",
    "    ox = ox_mass(delta_v, isp, payload_mass)\n",
    "    fuel = fuel_mass(delta_v, isp, payload_mass)\n",
    "\n",
    "    ox_volume = ox / 1141\n",
    "    fuel_volume = fuel / 71.96\n",
    "\n",
    "    return lox_tank_mass(ox_volume) + lh2_tank_mass(fuel_volume)\n",
    "\n"
   ]
  },
  {
   "cell_type": "code",
   "execution_count": 4,
   "metadata": {},
   "outputs": [
    {
     "name": "stdout",
     "output_type": "stream",
     "text": [
      "total mass: 5.572938031105836\n",
      "total mass: 7.568623601337693\n",
      "total mass: 10.144052996964794\n"
     ]
    }
   ],
   "source": [
    "max_mass = 16\n",
    "data = (\n",
    "    (675, 268, 1.95),\n",
    "    (1175, 280, 2),\n",
    "    (1918, 270, 1.9)\n",
    ")\n",
    "\n",
    "\n",
    "for delta_v, isp, engine_mass in data:\n",
    "    # payload_mass = max_mass - engine_mass - tank_mass(delta_v, isp, max_mass) - propellant_mass(delta_v, isp, max_mass)\n",
    "    print(f\"total mass: {engine_mass + propellant_mass(delta_v, isp, max_mass) * 1.0 }\")"
   ]
  },
  {
   "cell_type": "code",
   "execution_count": 7,
   "metadata": {},
   "outputs": [
    {
     "name": "stdout",
     "output_type": "stream",
     "text": [
      "14.295654251092763\n"
     ]
    }
   ],
   "source": [
    "max_mass = 16\n",
    "delta_v = 2000\n",
    "isp = 220\n",
    "engine_mass = 3.6\n",
    "\n",
    "mass = engine_mass + propellant_mass(delta_v, isp, max_mass) + tank_mass(delta_v, isp, max_mass)\n",
    "print(mass)"
   ]
  }
 ],
 "metadata": {
  "kernelspec": {
   "display_name": ".venv",
   "language": "python",
   "name": "python3"
  },
  "language_info": {
   "codemirror_mode": {
    "name": "ipython",
    "version": 3
   },
   "file_extension": ".py",
   "mimetype": "text/x-python",
   "name": "python",
   "nbconvert_exporter": "python",
   "pygments_lexer": "ipython3",
   "version": "3.12.6"
  }
 },
 "nbformat": 4,
 "nbformat_minor": 2
}
