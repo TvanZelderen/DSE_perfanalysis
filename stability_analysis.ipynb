{
 "cells": [
  {
   "cell_type": "code",
   "execution_count": 3,
   "id": "19ef6d91-0840-4c6d-bd5a-9d172e8574ff",
   "metadata": {},
   "outputs": [],
   "source": [
    "import math"
   ]
  },
  {
   "cell_type": "code",
   "execution_count": 7,
   "id": "ed8ca258-278c-4e2b-aff1-47e5d5a3a010",
   "metadata": {},
   "outputs": [],
   "source": [
    "fin_half_span = 0.1\n",
    "fin_cr = 0.1\n",
    "fin_ct = 0.1\n",
    "\n",
    "lh = 0.6 # Tail length [m]\n",
    "\n",
    "sh = fin_half_span * (fin_cr + fin_ct) / 2 * math.cos(math.radians(30)) * 2 # Tail area [m^2]"
   ]
  },
  {
   "cell_type": "code",
   "execution_count": null,
   "id": "4df593b4-3af7-4552-b334-3e3cbf3da888",
   "metadata": {},
   "outputs": [],
   "source": []
  }
 ],
 "metadata": {
  "kernelspec": {
   "display_name": "Python 3 (ipykernel)",
   "language": "python",
   "name": "python3"
  },
  "language_info": {
   "codemirror_mode": {
    "name": "ipython",
    "version": 3
   },
   "file_extension": ".py",
   "mimetype": "text/x-python",
   "name": "python",
   "nbconvert_exporter": "python",
   "pygments_lexer": "ipython3",
   "version": "3.12.6"
  }
 },
 "nbformat": 4,
 "nbformat_minor": 5
}
