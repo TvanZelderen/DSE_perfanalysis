{
 "cells": [
  {
   "cell_type": "code",
   "execution_count": 8,
   "id": "a39d7489-6123-48e4-9e40-5d9198182ea4",
   "metadata": {},
   "outputs": [],
   "source": [
    "from math import exp\n",
    "\n",
    "def get_isa(altitude):\n",
    "    g = 9.80665      # Gravitational acceleration (m/s^2)\n",
    "    R = 287.05       # Specific gas constant for dry air (J/(kg·K))\n",
    "    T0 = 288.15      # Sea-level standard temperature (K)\n",
    "    P0 = 101325      # Sea-level standard pressure (Pa)\n",
    "\n",
    "    if altitude <= 11000:\n",
    "        # Troposphere \n",
    "        L = -0.0065   # Temperature lapse rate (K/m) \n",
    "        T1 = T0 + L * altitude \n",
    "        P1 = P0 * (T1 / T0) ** (-g / (L * R))\n",
    "    elif altitude <= 20000:\n",
    "        # Lower Stratosphere\n",
    "        T1 = 216.65   # Constant temperature (K)\n",
    "        L = -0.0065\n",
    "        T11 = T0 + L * 11000\n",
    "        P11 = P0 * (T11 / T0) ** (-g / (L * R))\n",
    "        P1 = P11 * exp(-g * (altitude - 11000) / (R * T1))\n",
    "    else:\n",
    "        # Upper Stratosphere\n",
    "        L = 0.001     # Temperature lapse rate (K/m)\n",
    "        h_base = 20000\n",
    "        T_base = 216.65\n",
    "        L1 = -0.0065\n",
    "        T11 = T0 + L1 * 11000\n",
    "        P11 = P0 * (T11 / T0) ** (-g / (L1 * R))\n",
    "        P20 = P11 * exp(-g * (20000 - 11000) / (R * T_base))\n",
    "        T1 = T_base + L * (altitude - h_base)\n",
    "        P1 = P20 * (T1 / T_base) ** (-g / (L * R))\n",
    "\n",
    "    rho1 = P1 / (R * T1)\n",
    "    return P1, rho1, T1"
   ]
  },
  {
   "cell_type": "code",
   "execution_count": 9,
   "id": "d5283274-24b8-4334-b854-5bc7e2e62ee3",
   "metadata": {},
   "outputs": [
    {
     "data": {
      "text/plain": [
       "0.0105"
      ]
     },
     "execution_count": 9,
     "metadata": {},
     "output_type": "execute_result"
    }
   ],
   "source": [
    "fin_half_span = 0.3\n",
    "fin_cr = 0.04\n",
    "fin_ct = 0.03\n",
    "fin_area = fin_half_span * (fin_cr + fin_ct)/2\n",
    "fin_area"
   ]
  },
  {
   "cell_type": "code",
   "execution_count": 10,
   "id": "4243854d-b76b-45fe-a0c6-e6d0b52d25eb",
   "metadata": {},
   "outputs": [],
   "source": [
    "def dynamic_pressure(airspeed, altitude):\n",
    "    return 0.5 * get_isa(altitude)[1] * airspeed ** 2"
   ]
  },
  {
   "cell_type": "code",
   "execution_count": 11,
   "id": "f9a6cb0e-2f8f-4eee-a854-3fc5bc3e7284",
   "metadata": {},
   "outputs": [
    {
     "data": {
      "text/plain": [
       "2.9879031074255398"
      ]
     },
     "execution_count": 11,
     "metadata": {},
     "output_type": "execute_result"
    }
   ],
   "source": [
    "dynamic_pressure(350, 13000) * fin_area * 1.0 * (fin_cr + fin_ct) / 2 / 2"
   ]
  },
  {
   "cell_type": "code",
   "execution_count": 17,
   "id": "ce11f055-c4e5-410b-b787-965a61046160",
   "metadata": {},
   "outputs": [
    {
     "name": "stdout",
     "output_type": "stream",
     "text": [
      "1.8007680310063212 0\n",
      "1.6341288544701618 1000\n",
      "1.4795516467858576 2000\n",
      "1.3364175767241104 3000\n",
      "1.204125903957211 4000\n",
      "1.082093868690905 5000\n",
      "0.9697565792903756 6000\n",
      "0.8665668978127293 7000\n",
      "0.7719953233521836 8000\n",
      "0.6855298730973899 9000\n",
      "0.6066759609928268 10000\n",
      "0.5349562738879531 11000\n",
      "0.4569138730915886 12000\n",
      "0.39025673239843783 13000\n",
      "0.3333239066518282 14000\n",
      "0.2846967586255571 15000\n",
      "0.24316360979340565 16000\n",
      "0.20768954804128106 17000\n",
      "0.17739063999847468 18000\n",
      "0.15151190541766635 19000\n",
      "0.12940850477505045 20000\n",
      "0.11006176367062363 21000\n",
      "0.09367689638044638 22000\n",
      "0.07978990622023943 23000\n",
      "0.06801112344173409 24000\n",
      "0.05801303860402554 25000\n",
      "0.04952016976046948 26000\n"
     ]
    }
   ],
   "source": [
    "cm = 0.2\n",
    "c = (fin_cr + fin_ct) / 2\n",
    "\n",
    "for altitude in [1000*x for x in range(27)]:\n",
    "    moment = cm * dynamic_pressure(200, altitude) * c * c * fin_half_span\n",
    "    print(moment, altitude)"
   ]
  },
  {
   "cell_type": "code",
   "execution_count": null,
   "id": "bab9742b-6e2c-4b18-b6b6-04f51b9ef12b",
   "metadata": {},
   "outputs": [],
   "source": [
    "def get_reynolds(altitude, \n",
    "    mu = "
   ]
  }
 ],
 "metadata": {
  "kernelspec": {
   "display_name": "Python 3 (ipykernel)",
   "language": "python",
   "name": "python3"
  },
  "language_info": {
   "codemirror_mode": {
    "name": "ipython",
    "version": 3
   },
   "file_extension": ".py",
   "mimetype": "text/x-python",
   "name": "python",
   "nbconvert_exporter": "python",
   "pygments_lexer": "ipython3",
   "version": "3.12.6"
  }
 },
 "nbformat": 4,
 "nbformat_minor": 5
}
