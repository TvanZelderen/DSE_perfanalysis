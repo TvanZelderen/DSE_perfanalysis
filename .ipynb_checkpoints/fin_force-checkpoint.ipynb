{
 "cells": [
  {
   "cell_type": "code",
   "execution_count": 1,
   "id": "a39d7489-6123-48e4-9e40-5d9198182ea4",
   "metadata": {},
   "outputs": [],
   "source": [
    "from math import exp\n",
    "\n",
    "def get_isa(altitude):\n",
    "    g = 9.80665      # Gravitational acceleration (m/s^2)\n",
    "    R = 287.05       # Specific gas constant for dry air (J/(kg·K))\n",
    "    T0 = 288.15      # Sea-level standard temperature (K)\n",
    "    P0 = 101325      # Sea-level standard pressure (Pa)\n",
    "\n",
    "    if altitude <= 11000:\n",
    "        # Troposphere \n",
    "        L = -0.0065   # Temperature lapse rate (K/m) \n",
    "        T1 = T0 + L * Altf \n",
    "        P1 = P0 * (T1 / T0) ** (-g / (L * R))\n",
    "    elif altitude <= 20000:\n",
    "        # Lower Stratosphere\n",
    "        T1 = 216.65   # Constant temperature (K)\n",
    "        L = -0.0065\n",
    "        T11 = T0 + L * 11000\n",
    "        P11 = P0 * (T11 / T0) ** (-g / (L * R))\n",
    "        P1 = P11 * exp(-g * (altitude - 11000) / (R * T1))\n",
    "    else:\n",
    "        # Upper Stratosphere\n",
    "        L = 0.001     # Temperature lapse rate (K/m)\n",
    "        h_base = 20000\n",
    "        T_base = 216.65\n",
    "        L1 = -0.0065\n",
    "        T11 = T0 + L1 * 11000\n",
    "        P11 = P0 * (T11 / T0) ** (-g / (L1 * R))\n",
    "        P20 = P11 * exp(-g * (20000 - 11000) / (R * T_base))\n",
    "        T1 = T_base + L * (altitude - h_base)\n",
    "        P1 = P20 * (T1 / T_base) ** (-g / (L * R))\n",
    "\n",
    "    rho1 = P1 / (R * T1)\n",
    "    return P1, rho1, T1"
   ]
  },
  {
   "cell_type": "code",
   "execution_count": 2,
   "id": "d5283274-24b8-4334-b854-5bc7e2e62ee3",
   "metadata": {},
   "outputs": [
    {
     "data": {
      "text/plain": [
       "0.0105"
      ]
     },
     "execution_count": 2,
     "metadata": {},
     "output_type": "execute_result"
    }
   ],
   "source": [
    "fin_half_span = 0.3\n",
    "fin_cr = 0.04\n",
    "fin_ct = 0.03\n",
    "fin_area = fin_half_span * (fin_cr + fin_ct)/2\n",
    "fin_area"
   ]
  },
  {
   "cell_type": "code",
   "execution_count": 3,
   "id": "4243854d-b76b-45fe-a0c6-e6d0b52d25eb",
   "metadata": {},
   "outputs": [],
   "source": [
    "def dynamic_pressure(airspeed, altitude):\n",
    "    return 0.5 * get_isa(altitude)[1] * airspeed ** 2"
   ]
  },
  {
   "cell_type": "code",
   "execution_count": 4,
   "id": "f9a6cb0e-2f8f-4eee-a854-3fc5bc3e7284",
   "metadata": {},
   "outputs": [
    {
     "data": {
      "text/plain": [
       "2.9879031074255398"
      ]
     },
     "execution_count": 4,
     "metadata": {},
     "output_type": "execute_result"
    }
   ],
   "source": [
    "dynamic_pressure(350, 13000) * fin_area * 1.0 * (fin_cr + fin_ct) / 2 / 2"
   ]
  },
  {
   "cell_type": "code",
   "execution_count": 5,
   "id": "ce11f055-c4e5-410b-b787-965a61046160",
   "metadata": {},
   "outputs": [],
   "source": [
    "cm = 0.5\n",
    "c = (fin_cr + fin_ct) / 2\n",
    "\n",
    "for altitude in [1000*x for x in range(27)]\n",
    "    moment = cm * dynamic_pressure(350, altitude) * c"
   ]
  },
  {
   "cell_type": "code",
   "execution_count": null,
   "id": "bab9742b-6e2c-4b18-b6b6-04f51b9ef12b",
   "metadata": {},
   "outputs": [],
   "source": []
  }
 ],
 "metadata": {
  "kernelspec": {
   "display_name": "Python 3 (ipykernel)",
   "language": "python",
   "name": "python3"
  },
  "language_info": {
   "codemirror_mode": {
    "name": "ipython",
    "version": 3
   },
   "file_extension": ".py",
   "mimetype": "text/x-python",
   "name": "python",
   "nbconvert_exporter": "python",
   "pygments_lexer": "ipython3",
   "version": "3.12.6"
  }
 },
 "nbformat": 4,
 "nbformat_minor": 5
}
